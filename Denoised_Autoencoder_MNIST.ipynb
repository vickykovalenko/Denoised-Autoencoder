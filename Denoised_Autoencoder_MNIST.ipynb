{
 "cells": [
  {
   "cell_type": "code",
   "execution_count": 1,
   "metadata": {
    "id": "OSShiRCE52dR"
   },
   "outputs": [],
   "source": [
    "#!pip3 install torch==1.2.0+cu92 torchvision==0.4.0+cu92 -f https://download.pytorch.org/whl/torch_stable.html"
   ]
  },
  {
   "cell_type": "markdown",
   "metadata": {
    "id": "sSiweT0o5YKv"
   },
   "source": [
    "Importing libraries"
   ]
  },
  {
   "cell_type": "code",
   "execution_count": 110,
   "metadata": {
    "id": "VaYCy1Vd5oKh"
   },
   "outputs": [],
   "source": [
    "import numpy as np\n",
    "import torch\n",
    "import torch.nn as nn\n",
    "import torch.optim as optim\n",
    "import torchvision.transforms as transforms\n",
    "from torchvision import datasets\n",
    "import matplotlib.pyplot as plt"
   ]
  },
  {
   "cell_type": "markdown",
   "metadata": {
    "id": "Pl_qS4aK5fYQ"
   },
   "source": [
    "Loading MNIST dataset"
   ]
  },
  {
   "cell_type": "code",
   "execution_count": 111,
   "metadata": {
    "id": "QlRC4XOB5zfl"
   },
   "outputs": [],
   "source": [
    "## transformations\n",
    "transform = transforms.ToTensor()\n",
    "\n",
    "#transform = transforms.Compose([\n",
    "#            transforms.ToTensor(),\n",
    "#            transforms.Normalize((0.5), (0.5))                    \n",
    "#])\n",
    "\n",
    "## download and load training dataset\n",
    "mnist_data = datasets.MNIST(root='./data', train=True,\n",
    "                                        download=True, transform=transform)\n",
    "## download and load training dataset\n",
    "trainset = datasets.MNIST(root='./data', train=True,\n",
    "                                        download=True, transform=transform)\n",
    "trainloader = torch.utils.data.DataLoader(trainset, batch_size=64,\n",
    "                                          shuffle=True)\n",
    "\n",
    "## download and load testing dataset\n",
    "testset = datasets.MNIST(root='./data', train=False,\n",
    "                                       download=True, transform=transform)\n",
    "testloader = torch.utils.data.DataLoader(testset, batch_size=64,\n",
    "                                         shuffle=False)"
   ]
  },
  {
   "cell_type": "markdown",
   "metadata": {
    "id": "dxYHviSz5xnl"
   },
   "source": [
    "Autoencoder Class"
   ]
  },
  {
   "cell_type": "code",
   "execution_count": 113,
   "metadata": {
    "id": "aJ1i2K1pSRuX"
   },
   "outputs": [],
   "source": [
    "class Autoencoder(nn.Module):\n",
    "    def __init__(self):\n",
    "        super().__init__()        \n",
    "        # N, 1, 28, 28\n",
    "        self.encoder = nn.Sequential(\n",
    "            nn.Conv2d(1, 16, 3, stride=2, padding=1), # -> N, 16, 14, 14\n",
    "            nn.ReLU(),\n",
    "            nn.Conv2d(16, 32, 3, stride=2, padding=1), # -> N, 32, 7, 7\n",
    "            nn.ReLU(),\n",
    "            nn.Conv2d(32, 64, 7) # -> N, 64, 1, 1\n",
    "        )\n",
    "        \n",
    "        # N , 64, 1, 1\n",
    "        self.decoder = nn.Sequential(\n",
    "            nn.ConvTranspose2d(64, 32, 7), # -> N, 32, 7, 7\n",
    "            nn.ReLU(),\n",
    "            nn.ConvTranspose2d(32, 16, 3, stride=2, padding=1, output_padding=1), # N, 16, 14, 14 (N,16,13,13 without output_padding)\n",
    "            nn.ReLU(),\n",
    "            nn.ConvTranspose2d(16, 1, 3, stride=2, padding=1, output_padding=1), # N, 1, 28, 28  (N,1,27,27)\n",
    "            nn.Sigmoid()\n",
    "        )\n",
    "\n",
    "    def forward(self, x):\n",
    "        encoded = self.encoder(x)\n",
    "        decoded = self.decoder(encoded)\n",
    "        return decoded\n",
    "# Note : [-1, -1] -> nn.Tanh\n",
    "# nn.MaxPool2d -> nn.MaxUnpool2d"
   ]
  },
  {
   "cell_type": "code",
   "execution_count": 120,
   "metadata": {
    "id": "xAncGoVh_vgT"
   },
   "outputs": [],
   "source": [
    "model = Autoencoder()\n",
    "criterion = nn.MSELoss()\n",
    "optimizer = torch.optim.Adam(model.parameters(), lr=1e-3, weight_decay=1e-5)"
   ]
  },
  {
   "cell_type": "markdown",
   "metadata": {
    "id": "CrRXQdKm53Rz"
   },
   "source": [
    "Training Autoencoder model with denoized digits"
   ]
  },
  {
   "cell_type": "code",
   "execution_count": 121,
   "metadata": {
    "id": "54BQkWCcA3tm"
   },
   "outputs": [],
   "source": [
    "def train(model, optimizer, loss_fn, train_dl, epochs=5, device='cpu'):\n",
    "    noise_factor=0.5\n",
    "    outputs = []\n",
    "    for epoch in range(epochs):\n",
    "        for (img, _) in train_dl:\n",
    "            #img = img.reshape(-1, 28*28)  use for Autoencoder_Linear\n",
    "\n",
    "            ## add random noise to the input images\n",
    "            noisy_imgs = img + noise_factor * torch.randn(*img.shape)\n",
    "            # Clip the images to be between 0 and 1\n",
    "            noisy_imgs = np.clip(noisy_imgs, 0., 1.)\n",
    "\n",
    "            recon = model(noisy_imgs) # reconstructed image\n",
    "            loss = loss_fn(recon, img) # \n",
    "\n",
    "            optimizer.zero_grad() # do not forget about this step\n",
    "            loss.backward()\n",
    "            optimizer.step()\n",
    "\n",
    "        print(f'Epoch:{epoch+1}, Loss:{loss.item():.4f}')\n",
    "        outputs.append((epoch, img, recon))"
   ]
  },
  {
   "cell_type": "code",
   "execution_count": 123,
   "metadata": {
    "colab": {
     "base_uri": "https://localhost:8080/"
    },
    "id": "mkeZDVaA164j",
    "outputId": "d89f790d-031d-485a-a630-230e886103db"
   },
   "outputs": [
    {
     "name": "stdout",
     "output_type": "stream",
     "text": [
      "Epoch:1, Loss:0.0248\n",
      "Epoch:2, Loss:0.0155\n",
      "Epoch:3, Loss:0.0151\n",
      "Epoch:4, Loss:0.0123\n",
      "Epoch:5, Loss:0.0121\n"
     ]
    }
   ],
   "source": [
    "train(model, optimizer, criterion, trainloader)"
   ]
  },
  {
   "cell_type": "markdown",
   "metadata": {
    "id": "eWlBOpG76M8g"
   },
   "source": [
    "Testing the trained autoencoder model "
   ]
  },
  {
   "cell_type": "code",
   "execution_count": 124,
   "metadata": {
    "id": "8Xk8iiFkopKD"
   },
   "outputs": [],
   "source": [
    "def inference(model, testloader):\n",
    "    # obtain one batch of test images\n",
    "    noise_factor=0.5\n",
    "    dataiter = iter(testloader)\n",
    "    images, labels = dataiter.next()\n",
    "\n",
    "    # add noise to the test images\n",
    "    noisy_imgs = images + noise_factor * torch.randn(*images.shape)\n",
    "    noisy_imgs = np.clip(noisy_imgs, 0., 1.)\n",
    "\n",
    "    # get sample outputs\n",
    "    output = model(noisy_imgs)\n",
    "    # prep images for display\n",
    "    noisy_imgs = noisy_imgs.numpy()\n",
    "\n",
    "    # output is resized into a batch of iages\n",
    "    output = output.view(64, 1, 28, 28)\n",
    "    # use detach when it's an output that requires_grad\n",
    "    output = output.detach().numpy()\n",
    "\n",
    "    '''# plot the first ten input images and then reconstructed images\n",
    "    fig, axes = plt.subplots(nrows=2, ncols=10, sharex=True, sharey=True, figsize=(25,4))\n",
    "\n",
    "    # input images on top row, reconstructions on bottom\n",
    "    for noisy_imgs, row in zip([noisy_imgs, output], axes):\n",
    "        for img, ax in zip(noisy_imgs, row):\n",
    "            ax.imshow(np.squeeze(img), cmap='gray')\n",
    "            ax.get_xaxis().set_visible(False)\n",
    "            ax.get_yaxis().set_visible(False)'''\n",
    "\n",
    "    #plot the first ten input image and then reconstructed images\n",
    "\n",
    "    img = np.squeeze(noisy_imgs[0])\n",
    "    fig = plt.figure(figsize = (5,5)) \n",
    "    ax = fig.add_subplot(111)\n",
    "    ax.imshow(img, cmap='gray')\n",
    "\n",
    "    img2 = np.squeeze(output[0])\n",
    "    fig = plt.figure(figsize = (5,5)) \n",
    "    ax = fig.add_subplot(111)\n",
    "    ax.imshow(img2, cmap='gray')\n",
    "    \n",
    "    "
   ]
  },
  {
   "cell_type": "code",
   "execution_count": 125,
   "metadata": {
    "colab": {
     "base_uri": "https://localhost:8080/",
     "height": 623
    },
    "id": "eVABO8tV0tNW",
    "outputId": "106fd5cb-ae1d-47b3-d0da-d0aea82444a0"
   },
   "outputs": [
    {
     "data": {
      "image/png": "[encoded data removed]",
      "text/plain": [
       "<Figure size 360x360 with 1 Axes>"
      ]
     },
     "metadata": {
      "needs_background": "light"
     },
     "output_type": "display_data"
    },
    {
     "data": {
      "image/png": "[encoded data removed]",
      "text/plain": [
       "<Figure size 360x360 with 1 Axes>"
      ]
     },
     "metadata": {
      "needs_background": "light"
     },
     "output_type": "display_data"
    }
   ],
   "source": [
    "inference(model, testloader)"
   ]
  },
  {
   "cell_type": "markdown",
   "metadata": {
    "id": "JhV6hRq5AaC6"
   },
   "source": [
    "Classification network and eveluate efectiveness of the autoencoder"
   ]
  },
  {
   "cell_type": "code",
   "execution_count": 154,
   "metadata": {
    "id": "oEWtJ5XSZ3Jt"
   },
   "outputs": [],
   "source": [
    "## transformations\n",
    "transform = transforms.ToTensor()\n",
    "\n",
    "#transform = transforms.Compose([\n",
    "#            transforms.ToTensor(),\n",
    "#            transforms.Normalize((0.5), (0.5))                    \n",
    "#])\n",
    "\n",
    "## download and load training dataset\n",
    "mnist_data = datasets.MNIST(root='./data', train=True,\n",
    "                                        download=True, transform=transform)\n",
    "## download and load training dataset\n",
    "trainset = datasets.MNIST(root='./data', train=True,\n",
    "                                        download=True, transform=transform)\n",
    "trainloader = torch.utils.data.DataLoader(trainset, batch_size=20,\n",
    "                                          shuffle=True)\n",
    "\n",
    "## download and load testing dataset\n",
    "testset = datasets.MNIST(root='./data', train=False,\n",
    "                                       download=True, transform=transform)\n",
    "testloader = torch.utils.data.DataLoader(testset, batch_size=20,\n",
    "                                         shuffle=False)"
   ]
  },
  {
   "cell_type": "markdown",
   "metadata": {
    "id": "yFNCts8c64xk"
   },
   "source": [
    "Classification model "
   ]
  },
  {
   "cell_type": "code",
   "execution_count": 131,
   "metadata": {
    "id": "_IYnV4ZBa3cJ"
   },
   "outputs": [],
   "source": [
    "class ClassifyModel(nn.Module):\n",
    "    def __init__(self):\n",
    "        super(ClassifyModel, self).__init__()\n",
    "\n",
    "        # 28x28x1 => 26x26x32\n",
    "        self.conv1 = nn.Conv2d(in_channels=1, out_channels=32, kernel_size=3)\n",
    "        self.d1 = nn.Linear(26 * 26 * 32, 128)\n",
    "        self.d2 = nn.Linear(128, 10)\n",
    "\n",
    "    def forward(self, x):\n",
    "        # 32x1x28x28 => 32x32x26x26\n",
    "        x = self.conv1(x)\n",
    "        x = F.relu(x)\n",
    "\n",
    "        # flatten => 32 x (32*26*26)\n",
    "        x = x.flatten(start_dim = 1)\n",
    "\n",
    "        # 32 x (32*26*26) => 32x128\n",
    "        x = self.d1(x)\n",
    "        x = F.relu(x)\n",
    "\n",
    "        # logits => 32x10\n",
    "        logits = self.d2(x)\n",
    "        out = F.softmax(logits, dim=1)\n",
    "        return out"
   ]
  },
  {
   "cell_type": "code",
   "execution_count": 137,
   "metadata": {
    "id": "6M8c1crhPx55"
   },
   "outputs": [],
   "source": [
    "learning_rate = 0.001\n",
    "num_epochs = 5\n",
    "\n",
    "device = torch.device(\"cuda:0\" if torch.cuda.is_available() else \"cpu\")\n",
    "model_classify = ClassifyModel()\n",
    "model_classify = model.to(device)\n",
    "criterion = nn.CrossEntropyLoss()\n",
    "optimizer = torch.optim.Adam(model.parameters(), lr=learning_rate)"
   ]
  },
  {
   "cell_type": "code",
   "execution_count": 133,
   "metadata": {
    "id": "mwvCpwaBP1-Y"
   },
   "outputs": [],
   "source": [
    "## compute accuracy\n",
    "def get_accuracy(logit, target, batch_size):\n",
    "    ''' Obtain accuracy for training round '''\n",
    "    corrects = (torch.max(logit, 1)[1].view(target.size()).data == target.data).sum()\n",
    "    accuracy = 100.0 * corrects/batch_size\n",
    "    return accuracy.item()"
   ]
  },
  {
   "cell_type": "markdown",
   "metadata": {
    "id": "nz3PDRSV7ANC"
   },
   "source": [
    "Training classification model on clean train set"
   ]
  },
  {
   "cell_type": "code",
   "execution_count": 139,
   "metadata": {
    "id": "p2Rw4VAeQJgD"
   },
   "outputs": [],
   "source": [
    "def train_classify(model_classify, optimizer, criterion, trainloader, num_epochs=5, device='cpu'):\n",
    "    for epoch in range(num_epochs):\n",
    "        train_running_loss = 0.0\n",
    "        train_acc = 0.0\n",
    "\n",
    "        model_classify = model_classify.train()\n",
    "\n",
    "        ## training step\n",
    "        for i, (images, labels) in enumerate(trainloader):\n",
    "            \n",
    "            images = images.to(device)\n",
    "            labels = labels.to(device)\n",
    "\n",
    "            logits = model_classify(images)\n",
    "            loss = criterion(logits, labels)\n",
    "            optimizer.zero_grad()\n",
    "            loss.backward()\n",
    "\n",
    "            ## update model params\n",
    "            optimizer.step()\n",
    "\n",
    "            train_running_loss += loss.detach().item()\n",
    "            train_acc += get_accuracy(logits, labels, 20)\n",
    "        \n",
    "        model.eval()\n",
    "        print('Epoch: %d | Loss: %.4f | Train Accuracy: %.2f' \\\n",
    "              %(epoch, train_running_loss / i, train_acc/i))   "
   ]
  },
  {
   "cell_type": "code",
   "execution_count": 140,
   "metadata": {
    "colab": {
     "base_uri": "https://localhost:8080/"
    },
    "id": "sfcgiu9RzN2Q",
    "outputId": "9eb05747-9324-4a34-98e9-57eda008f234"
   },
   "outputs": [
    {
     "name": "stdout",
     "output_type": "stream",
     "text": [
      "Epoch: 0 | Loss: 1.4891 | Train Accuracy: 97.42\n",
      "Epoch: 1 | Loss: 1.4805 | Train Accuracy: 98.22\n",
      "Epoch: 2 | Loss: 1.4765 | Train Accuracy: 98.60\n",
      "Epoch: 3 | Loss: 1.4750 | Train Accuracy: 98.72\n",
      "Epoch: 4 | Loss: 1.4725 | Train Accuracy: 98.94\n"
     ]
    }
   ],
   "source": [
    "train_classify(model_classify, optimizer, criterion, trainloader)"
   ]
  },
  {
   "cell_type": "markdown",
   "metadata": {
    "id": "o3_lc8BU7I-L"
   },
   "source": [
    "Testing a classification model on clean test set"
   ]
  },
  {
   "cell_type": "code",
   "execution_count": 143,
   "metadata": {
    "id": "XeWSDFt5QPSt"
   },
   "outputs": [],
   "source": [
    "def test_classify(model_classify, testloader):\n",
    "    # initialize lists to monitor test loss and accuracy\n",
    "    test_loss = 0.0\n",
    "    class_correct = list(0. for i in range(10))\n",
    "    class_total = list(0. for i in range(10))\n",
    "\n",
    "    model_classify.eval() # prep model for training\n",
    "\n",
    "    for data, target in testloader:\n",
    "        # forward pass: compute predicted outputs by passing inputs to the model\n",
    "        output = model_classify(data)\n",
    "        # calculate the loss\n",
    "        loss = criterion(output, target)\n",
    "        # update test loss \n",
    "        test_loss += loss.item()*data.size(0)\n",
    "        # convert output probabilities to predicted class\n",
    "        _, pred = torch.max(output, 1)\n",
    "        # compare predictions to true label\n",
    "        correct = np.squeeze(pred.eq(target.data.view_as(pred)))\n",
    "        # calculate test accuracy for each object class\n",
    "        for i in range(20):\n",
    "            label = target.data[i]\n",
    "            class_correct[label] += correct[i].item()\n",
    "            class_total[label] += 1\n",
    "\n",
    "    # calculate and print avg test loss\n",
    "    test_loss = test_loss/len(testloader.dataset)\n",
    "    print('Test Loss: {:.6f}\\n'.format(test_loss))\n",
    "\n",
    "    for i in range(10):\n",
    "        if class_total[i] > 0:\n",
    "            print('Test Accuracy of %5s: %2d%% (%2d/%2d)' % (\n",
    "                str(i), 100 * class_correct[i] / class_total[i],\n",
    "                np.sum(class_correct[i]), np.sum(class_total[i])))\n",
    "        else:\n",
    "            print('Test Accuracy of %5s: N/A (no training examples)' % (classes[i]))\n",
    "\n",
    "    print('\\nTest Accuracy (Overall): %2d%% (%2d/%2d)' % (\n",
    "        100. * np.sum(class_correct) / np.sum(class_total),\n",
    "        np.sum(class_correct), np.sum(class_total)))"
   ]
  },
  {
   "cell_type": "code",
   "execution_count": 144,
   "metadata": {
    "colab": {
     "base_uri": "https://localhost:8080/"
    },
    "id": "XOawYig22Wgv",
    "outputId": "8853dbea-09a7-437a-e206-647efd5688f0"
   },
   "outputs": [
    {
     "name": "stdout",
     "output_type": "stream",
     "text": [
      "Test Loss: 1.481816\n",
      "\n",
      "Test Accuracy of     0: 97% (959/980)\n",
      "Test Accuracy of     1: 99% (1130/1135)\n",
      "Test Accuracy of     2: 97% (1006/1032)\n",
      "Test Accuracy of     3: 99% (1001/1010)\n",
      "Test Accuracy of     4: 97% (962/982)\n",
      "Test Accuracy of     5: 97% (868/892)\n",
      "Test Accuracy of     6: 98% (940/958)\n",
      "Test Accuracy of     7: 98% (1012/1028)\n",
      "Test Accuracy of     8: 94% (925/974)\n",
      "Test Accuracy of     9: 97% (986/1009)\n",
      "\n",
      "Test Accuracy (Overall): 97% (9789/10000)\n"
     ]
    }
   ],
   "source": [
    "test_classify(model_classify, testloader)"
   ]
  },
  {
   "cell_type": "markdown",
   "metadata": {
    "id": "nxuqXX-V7UkF"
   },
   "source": [
    "Testing a classification model on noisy test set"
   ]
  },
  {
   "cell_type": "code",
   "execution_count": 147,
   "metadata": {
    "id": "z-PccsZMd6WW"
   },
   "outputs": [],
   "source": [
    "def test_noisy(model_classify, testloader):\n",
    "    # initialize lists to monitor test loss and accuracy\n",
    "    noise_factor=0.5\n",
    "    test_loss = 0.0\n",
    "    class_correct = list(0. for i in range(10))\n",
    "    class_total = list(0. for i in range(10))\n",
    "\n",
    "    model_classify.eval() # prep model for training\n",
    "\n",
    "    for data, target in testloader:\n",
    "        \n",
    "        # add noise to the test images\n",
    "        noisy_imgs = data + noise_factor * torch.randn(*data.shape)\n",
    "        noisy_imgs = np.clip(noisy_imgs, 0., 1.)\n",
    "\n",
    "        # get sample outputs\n",
    "        output = model_classify(noisy_imgs)\n",
    "      \n",
    "\n",
    "        # forward pass: compute predicted outputs by passing inputs to the model\n",
    "      \n",
    "        # calculate the loss\n",
    "        loss = criterion(output, target)\n",
    "        # update test loss \n",
    "        test_loss += loss.item()*data.size(0)\n",
    "        # convert output probabilities to predicted class\n",
    "        _, pred = torch.max(output, 1)\n",
    "        # compare predictions to true label\n",
    "        correct = np.squeeze(pred.eq(target.data.view_as(pred)))\n",
    "        # calculate test accuracy for each object class\n",
    "        for i in range(20):\n",
    "            label = target.data[i]\n",
    "            class_correct[label] += correct[i].item()\n",
    "            class_total[label] += 1\n",
    "\n",
    "    # calculate and print avg test loss\n",
    "    test_loss = test_loss/len(testloader.dataset)\n",
    "    print('Test Loss: {:.6f}\\n'.format(test_loss))\n",
    "\n",
    "    for i in range(10):\n",
    "        if class_total[i] > 0:\n",
    "            print('Test Accuracy of %5s: %2d%% (%2d/%2d)' % (\n",
    "                str(i), 100 * class_correct[i] / class_total[i],\n",
    "                np.sum(class_correct[i]), np.sum(class_total[i])))\n",
    "        else:\n",
    "            print('Test Accuracy of %5s: N/A (no training examples)' % (classes[i]))\n",
    "\n",
    "    print('\\nTest Accuracy (Overall): %2d%% (%2d/%2d)' % (\n",
    "        100. * np.sum(class_correct) / np.sum(class_total),\n",
    "        np.sum(class_correct), np.sum(class_total)))"
   ]
  },
  {
   "cell_type": "code",
   "execution_count": 148,
   "metadata": {
    "colab": {
     "base_uri": "https://localhost:8080/"
    },
    "id": "xCfxEev52-Z1",
    "outputId": "3ef18cdd-3bc8-4a1a-8bd4-58257ee5ad88"
   },
   "outputs": [
    {
     "name": "stdout",
     "output_type": "stream",
     "text": [
      "Test Loss: 1.692330\n",
      "\n",
      "Test Accuracy of     0: 56% (550/980)\n",
      "Test Accuracy of     1: 73% (838/1135)\n",
      "Test Accuracy of     2: 88% (914/1032)\n",
      "Test Accuracy of     3: 78% (790/1010)\n",
      "Test Accuracy of     4: 94% (927/982)\n",
      "Test Accuracy of     5: 90% (807/892)\n",
      "Test Accuracy of     6: 85% (815/958)\n",
      "Test Accuracy of     7: 70% (726/1028)\n",
      "Test Accuracy of     8: 78% (765/974)\n",
      "Test Accuracy of     9: 56% (574/1009)\n",
      "\n",
      "Test Accuracy (Overall): 77% (7706/10000)\n"
     ]
    }
   ],
   "source": [
    "test_noisy(model_classify, testloader)"
   ]
  }
 ],
 "metadata": {
  "colab": {
   "collapsed_sections": [],
   "name": "Denoised-Autoencoder-MNIST.ipynb",
   "provenance": []
  },
  "kernelspec": {
   "display_name": "Python 3",
   "language": "python",
   "name": "python3"
  },
  "language_info": {
   "codemirror_mode": {
    "name": "ipython",
    "version": 3
   },
   "file_extension": ".py",
   "mimetype": "text/x-python",
   "name": "python",
   "nbconvert_exporter": "python",
   "pygments_lexer": "ipython3",
   "version": "3.8.8"
  }
 },
 "nbformat": 4,
 "nbformat_minor": 1
}
